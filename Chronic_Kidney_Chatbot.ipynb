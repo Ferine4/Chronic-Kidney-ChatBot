{
  "nbformat": 4,
  "nbformat_minor": 0,
  "metadata": {
    "colab": {
      "name": "Chronic Kidney Chatbot.ipynb",
      "provenance": [],
      "authorship_tag": "ABX9TyNrHjQWEKwx4UMhN4z2PATL",
      "include_colab_link": true
    },
    "kernelspec": {
      "name": "python3",
      "display_name": "Python 3"
    }
  },
  "cells": [
    {
      "cell_type": "markdown",
      "metadata": {
        "id": "view-in-github",
        "colab_type": "text"
      },
      "source": [
        "<a href=\"https://colab.research.google.com/github/Ferine4/Chronic-Kidney-ChatBot/blob/master/Chronic_Kidney_Chatbot.ipynb\" target=\"_parent\"><img src=\"https://colab.research.google.com/assets/colab-badge.svg\" alt=\"Open In Colab\"/></a>"
      ]
    },
    {
      "cell_type": "code",
      "metadata": {
        "id": "snh48JKeOSLb",
        "colab_type": "code",
        "colab": {}
      },
      "source": [
        "!pip install nltk\n",
        "!pip install newspaper3k"
      ],
      "execution_count": 0,
      "outputs": []
    },
    {
      "cell_type": "code",
      "metadata": {
        "id": "LMN1SRzZOb6F",
        "colab_type": "code",
        "colab": {}
      },
      "source": [
        "#What am I? I am a 'machine-learning' chatbot\n",
        "\n",
        "#Import libraries\n",
        "from newspaper import Article\n",
        "import random\n",
        "import string \n",
        "from sklearn.feature_extraction.text import TfidfVectorizer\n",
        "from sklearn.metrics.pairwise import cosine_similarity\n",
        "import nltk\n",
        "import numpy as np\n",
        "import warnings\n",
        "warnings.filterwarnings('ignore')"
      ],
      "execution_count": 0,
      "outputs": []
    },
    {
      "cell_type": "code",
      "metadata": {
        "id": "oZeH8QzWPSZu",
        "colab_type": "code",
        "colab": {}
      },
      "source": [
        "#Ignore any warning messages\n",
        "warnings.filterwarnings('ignore')"
      ],
      "execution_count": 0,
      "outputs": []
    },
    {
      "cell_type": "code",
      "metadata": {
        "id": "8abJRn8kPbjd",
        "colab_type": "code",
        "colab": {}
      },
      "source": [
        "#Download packages from NLTK\n",
        "nltk.download('punkt')\n",
        "nltk.download('wordnet')"
      ],
      "execution_count": 0,
      "outputs": []
    },
    {
      "cell_type": "code",
      "metadata": {
        "id": "Zymycx4XPnY5",
        "colab_type": "code",
        "colab": {}
      },
      "source": [
        "#Get the article URL\n",
        "article = Article('https://www.mayoclinic.org/diseases-conditions/chronic-kidney-disease/symptoms-causes/syc-20354521')\n",
        "article.download() \n",
        "article.parse() \n",
        "article.nlp() \n",
        "corpus = article.text \n",
        "\n",
        "print (corpus)"
      ],
      "execution_count": 0,
      "outputs": []
    },
    {
      "cell_type": "code",
      "metadata": {
        "id": "91kAE7nsQUKA",
        "colab_type": "code",
        "colab": {}
      },
      "source": [
        "#Tokenization\n",
        "text = corpus\n",
        "sent_tokens = nltk.sent_tokenize(text) #Converts text into sentences\n",
        "\n",
        "print(sent_tokens)"
      ],
      "execution_count": 0,
      "outputs": []
    },
    {
      "cell_type": "code",
      "metadata": {
        "id": "t-HKYI4xQkTn",
        "colab_type": "code",
        "colab": {}
      },
      "source": [
        "#Dictionary Creation\n",
        "remove_punct_dict =dict(  (ord(punct),None) for punct in string.punctuation) #Removes symbol and adds numeric value to punctuation \n",
        "print(string.punctuation)\n",
        "print(remove_punct_dict)"
      ],
      "execution_count": 0,
      "outputs": []
    },
    {
      "cell_type": "code",
      "metadata": {
        "id": "jze2GWPNRl0N",
        "colab_type": "code",
        "colab": {}
      },
      "source": [
        "#Function returns list of lower case works after removing punctuations\n",
        "def LemNormalize(text):\n",
        "  return nltk.word_tokenize(text.lower().translate(remove_punct_dict))\n",
        "\n",
        "print(LemNormalize(text))\n",
        "\n",
        "#removes punct, and lowers all cases"
      ],
      "execution_count": 0,
      "outputs": []
    },
    {
      "cell_type": "code",
      "metadata": {
        "id": "cXGfvde9TG_-",
        "colab_type": "code",
        "colab": {}
      },
      "source": [
        "#Keyword Matching\n",
        "#Greetings\n",
        "GREETING_INPUTS = [\"hi\", \"hello\", \"hola\", \"greetings\", \"what's up\", \"wassup\", \"hey\", \"hey how are you doing?\"]\n",
        "\n",
        "#Greeting response\n",
        "GREETING_RESPONSES=[\"howdy\", \"hi\", \"hey\", \"what's good?\", \"hello\", \"hey there\"]\n",
        "\n",
        "#Function to return response to users greeting\n",
        "def greeting(sentence): \n",
        "  for word in sentence.split():\n",
        "    if word.lower() in GREETING_INPUTS:\n",
        "      return random.choice(GREETING_RESPONSES)\n"
      ],
      "execution_count": 0,
      "outputs": []
    },
    {
      "cell_type": "code",
      "metadata": {
        "colab_type": "code",
        "id": "0b4pjnQbY3gC",
        "colab": {}
      },
      "source": [
        "#Generates Response\n",
        "def response(user_response):\n",
        "\n",
        "#user response query\n",
        "# user_response = \"What is chronic kidney disease\"\n",
        "\n",
        "  user_response = user_response.lower() #makes response lowercase for matching\n",
        "\n",
        "  ##print(user_response)\n",
        "\n",
        "  robo_response = \"\" \n",
        "\n",
        "  sent_tokens.append(user_response)\n",
        "\n",
        "  ##print(sent_tokens)\n",
        "\n",
        "#Script accounts for how frequent words are used\n",
        "  TfidfVec = TfidfVectorizer(tokenizer=LemNormalize, stop_words='english') \n",
        "\n",
        "  tfidf = TfidfVec.fit_transform(sent_tokens)\n",
        "\n",
        "  ##print(tfidf)\n",
        "\n",
        "#Get similarity scores\n",
        "  vals = cosine_similarity(tfidf[-1], tfidf)\n",
        "  ##print(vals)\n",
        "#Gets index of similar text related to user query\n",
        "  idx=vals.argsort()[0][-2]\n",
        "  flat = vals.flatten()\n",
        "  flat.sort()\n",
        "#Gets most similar score to related respons\n",
        "  score = flat[-2]\n",
        "#Bots response to not understanding the query\n",
        "  if(score==0):\n",
        "    robo_response=robo_response+\"I apologize, I do not understand.\"\n",
        "  else:\n",
        "    robo_response = robo_response+sent_tokens[idx]\n",
        "  \n",
        "  sent_tokens.remove(user_response)\n",
        "  \n",
        "  return robo_response"
      ],
      "execution_count": 0,
      "outputs": []
    },
    {
      "cell_type": "code",
      "metadata": {
        "id": "oSeCKQjscbfl",
        "colab_type": "code",
        "colab": {}
      },
      "source": [
        "flag=True\n",
        "print(\"DOC Bot: I am DOCTOR BOT or DOC Bot for short. I will answer your queries about Chronic Kidney Disease. If you want to exit, type Bye!\")\n",
        "while(flag==True):\n",
        "    user_response = input()\n",
        "    user_response=user_response.lower()\n",
        "    if(user_response!='bye'):\n",
        "        if(user_response=='thanks' or user_response=='thank you' ):\n",
        "            flag=False\n",
        "            print(\"DOC Bot: You're welcome !\")\n",
        "        else:\n",
        "            if(greeting(user_response)!=None):\n",
        "                print(\"DOC Bot: \"+greeting(user_response))\n",
        "            else:\n",
        "                print(\"DOC Bot: \"+response(user_response))\n",
        "    else:\n",
        "        flag=False\n",
        "        print(\"DOCBot: Chat with you later !\")"
      ],
      "execution_count": 0,
      "outputs": []
    }
  ]
}